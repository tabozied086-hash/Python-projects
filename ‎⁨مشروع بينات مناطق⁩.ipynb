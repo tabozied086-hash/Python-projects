{
 "cells": [
  {
   "cell_type": "code",
   "execution_count": 8,
   "id": "d1545aa0-d153-4f9c-89bc-1056bec79382",
   "metadata": {},
   "outputs": [
    {
     "data": {
      "text/html": [
       "<div>\n",
       "<style scoped>\n",
       "    .dataframe tbody tr th:only-of-type {\n",
       "        vertical-align: middle;\n",
       "    }\n",
       "\n",
       "    .dataframe tbody tr th {\n",
       "        vertical-align: top;\n",
       "    }\n",
       "\n",
       "    .dataframe thead th {\n",
       "        text-align: right;\n",
       "    }\n",
       "</style>\n",
       "<table border=\"1\" class=\"dataframe\">\n",
       "  <thead>\n",
       "    <tr style=\"text-align: right;\">\n",
       "      <th></th>\n",
       "      <th>data</th>\n",
       "      <th>revenue</th>\n",
       "      <th>region</th>\n",
       "    </tr>\n",
       "  </thead>\n",
       "  <tbody>\n",
       "    <tr>\n",
       "      <th>0</th>\n",
       "      <td>17/11/2024</td>\n",
       "      <td>NaN</td>\n",
       "      <td>عمان     الغربية</td>\n",
       "    </tr>\n",
       "    <tr>\n",
       "      <th>1</th>\n",
       "      <td>18/11/2024</td>\n",
       "      <td>12444.0</td>\n",
       "      <td>الكرك</td>\n",
       "    </tr>\n",
       "    <tr>\n",
       "      <th>2</th>\n",
       "      <td>19/11/2024</td>\n",
       "      <td>13764.0</td>\n",
       "      <td>مادبا</td>\n",
       "    </tr>\n",
       "    <tr>\n",
       "      <th>3</th>\n",
       "      <td>20/11/2024</td>\n",
       "      <td>15084.0</td>\n",
       "      <td>عجلون</td>\n",
       "    </tr>\n",
       "    <tr>\n",
       "      <th>4</th>\n",
       "      <td>21/11/2024</td>\n",
       "      <td>16404.0</td>\n",
       "      <td>اربد</td>\n",
       "    </tr>\n",
       "  </tbody>\n",
       "</table>\n",
       "</div>"
      ],
      "text/plain": [
       "         data  revenue              region\n",
       "0  17/11/2024      NaN    عمان     الغربية\n",
       "1  18/11/2024  12444.0               الكرك\n",
       "2  19/11/2024  13764.0               مادبا\n",
       "3  20/11/2024  15084.0               عجلون\n",
       "4  21/11/2024  16404.0                اربد"
      ]
     },
     "metadata": {},
     "output_type": "display_data"
    }
   ],
   "source": [
    "import pandas as pd\n",
    "\n",
    "file_name = \"بيانات مناطق.csv\"\n",
    "df = pd.read_csv(file_name, sep=';')\n",
    "display(df.head())\n"
   ]
  },
  {
   "cell_type": "code",
   "execution_count": 9,
   "id": "2485f05a-7ccc-40ec-8b81-2afc05bffbc8",
   "metadata": {},
   "outputs": [
    {
     "name": "stdout",
     "output_type": "stream",
     "text": [
      "<class 'pandas.core.frame.DataFrame'>\n",
      "RangeIndex: 247 entries, 0 to 246\n",
      "Data columns (total 3 columns):\n",
      " #   Column   Non-Null Count  Dtype  \n",
      "---  ------   --------------  -----  \n",
      " 0   data     247 non-null    object \n",
      " 1   revenue  246 non-null    float64\n",
      " 2   region   247 non-null    object \n",
      "dtypes: float64(1), object(2)\n",
      "memory usage: 5.9+ KB\n",
      "None\n"
     ]
    }
   ],
   "source": [
    " print(df.info())"
   ]
  },
  {
   "cell_type": "code",
   "execution_count": 10,
   "id": "d4c5467e-a0bf-42e2-9a8e-bfb0fc7eb94d",
   "metadata": {},
   "outputs": [
    {
     "name": "stderr",
     "output_type": "stream",
     "text": [
      "C:\\Users\\PH1\\AppData\\Local\\Temp\\ipykernel_12896\\2962343617.py:1: UserWarning: Parsing dates in %d/%m/%Y format when dayfirst=False (the default) was specified. Pass `dayfirst=True` or specify a format to silence this warning.\n",
      "  df[\"data\"] = pd.to_datetime(df[\"data\"], errors='coerce')\n"
     ]
    }
   ],
   "source": [
    "df[\"data\"] = pd.to_datetime(df[\"data\"], errors='coerce')"
   ]
  },
  {
   "cell_type": "code",
   "execution_count": 12,
   "id": "9cce3bc4-08d7-4cb5-8235-7dfe69fc97fa",
   "metadata": {},
   "outputs": [
    {
     "name": "stdout",
     "output_type": "stream",
     "text": [
      "<class 'pandas.core.frame.DataFrame'>\n",
      "RangeIndex: 247 entries, 0 to 246\n",
      "Data columns (total 3 columns):\n",
      " #   Column   Non-Null Count  Dtype         \n",
      "---  ------   --------------  -----         \n",
      " 0   data     247 non-null    datetime64[ns]\n",
      " 1   revenue  246 non-null    float64       \n",
      " 2   region   247 non-null    object        \n",
      "dtypes: datetime64[ns](1), float64(1), object(1)\n",
      "memory usage: 5.9+ KB\n",
      "None\n"
     ]
    }
   ],
   "source": [
    " print(df.info())"
   ]
  },
  {
   "cell_type": "code",
   "execution_count": 11,
   "id": "e939dfc0-45c6-48e2-9074-528cddbe1e0a",
   "metadata": {},
   "outputs": [
    {
     "data": {
      "text/html": [
       "<div>\n",
       "<style scoped>\n",
       "    .dataframe tbody tr th:only-of-type {\n",
       "        vertical-align: middle;\n",
       "    }\n",
       "\n",
       "    .dataframe tbody tr th {\n",
       "        vertical-align: top;\n",
       "    }\n",
       "\n",
       "    .dataframe thead th {\n",
       "        text-align: right;\n",
       "    }\n",
       "</style>\n",
       "<table border=\"1\" class=\"dataframe\">\n",
       "  <thead>\n",
       "    <tr style=\"text-align: right;\">\n",
       "      <th></th>\n",
       "      <th>data</th>\n",
       "      <th>revenue</th>\n",
       "      <th>region</th>\n",
       "    </tr>\n",
       "  </thead>\n",
       "  <tbody>\n",
       "    <tr>\n",
       "      <th>0</th>\n",
       "      <td>2024-11-17</td>\n",
       "      <td>NaN</td>\n",
       "      <td>عمان الغربية</td>\n",
       "    </tr>\n",
       "    <tr>\n",
       "      <th>1</th>\n",
       "      <td>2024-11-18</td>\n",
       "      <td>12444.0</td>\n",
       "      <td>الكرك</td>\n",
       "    </tr>\n",
       "    <tr>\n",
       "      <th>2</th>\n",
       "      <td>2024-11-19</td>\n",
       "      <td>13764.0</td>\n",
       "      <td>مادبا</td>\n",
       "    </tr>\n",
       "    <tr>\n",
       "      <th>3</th>\n",
       "      <td>2024-11-20</td>\n",
       "      <td>15084.0</td>\n",
       "      <td>عجلون</td>\n",
       "    </tr>\n",
       "    <tr>\n",
       "      <th>4</th>\n",
       "      <td>2024-11-21</td>\n",
       "      <td>16404.0</td>\n",
       "      <td>اربد</td>\n",
       "    </tr>\n",
       "  </tbody>\n",
       "</table>\n",
       "</div>"
      ],
      "text/plain": [
       "        data  revenue        region\n",
       "0 2024-11-17      NaN  عمان الغربية\n",
       "1 2024-11-18  12444.0         الكرك\n",
       "2 2024-11-19  13764.0         مادبا\n",
       "3 2024-11-20  15084.0         عجلون\n",
       "4 2024-11-21  16404.0          اربد"
      ]
     },
     "metadata": {},
     "output_type": "display_data"
    }
   ],
   "source": [
    "\n",
    "for col in df.select_dtypes(include='object').columns:\n",
    "    df[col] = df[col].str.replace(r'\\s+', ' ', regex=True).str.strip()\n",
    "display(df.head())\n"
   ]
  },
  {
   "cell_type": "code",
   "execution_count": 12,
   "id": "157fbf1f-7c51-4975-a729-20a13f2649e9",
   "metadata": {},
   "outputs": [
    {
     "name": "stdout",
     "output_type": "stream",
     "text": [
      "data       0\n",
      "revenue    1\n",
      "region     0\n",
      "dtype: int64\n"
     ]
    }
   ],
   "source": [
    "null_counts = df.isnull().sum() \n",
    "print(null_counts)\n",
    "\n"
   ]
  },
  {
   "cell_type": "code",
   "execution_count": 17,
   "id": "b80d1dc8-5f5f-49c9-a0f9-ffdf27beab02",
   "metadata": {},
   "outputs": [
    {
     "data": {
      "text/plain": [
       "data       0\n",
       "revenue    1\n",
       "region     0\n",
       "dtype: int64"
      ]
     },
     "execution_count": 17,
     "metadata": {},
     "output_type": "execute_result"
    }
   ],
   "source": [
    "df.isna().sum()"
   ]
  },
  {
   "cell_type": "code",
   "execution_count": 13,
   "id": "ee3ee361-a5ac-4e85-b271-b1baf4b9614f",
   "metadata": {},
   "outputs": [
    {
     "name": "stdout",
     "output_type": "stream",
     "text": [
      "        data   revenue        region\n",
      "0 2024-11-17  174144.0  عمان الغربية\n",
      "1 2024-11-18   12444.0         الكرك\n",
      "2 2024-11-19   13764.0         مادبا\n",
      "3 2024-11-20   15084.0         عجلون\n",
      "4 2024-11-21   16404.0          اربد\n"
     ]
    },
    {
     "name": "stderr",
     "output_type": "stream",
     "text": [
      "C:\\Users\\PH1\\AppData\\Local\\Temp\\ipykernel_12896\\638304591.py:1: FutureWarning: A value is trying to be set on a copy of a DataFrame or Series through chained assignment using an inplace method.\n",
      "The behavior will change in pandas 3.0. This inplace method will never work because the intermediate object on which we are setting values always behaves as a copy.\n",
      "\n",
      "For example, when doing 'df[col].method(value, inplace=True)', try using 'df.method({col: value}, inplace=True)' or df[col] = df[col].method(value) instead, to perform the operation inplace on the original object.\n",
      "\n",
      "\n",
      "  df['revenue'].fillna(df['revenue'].mean(), inplace=True)\n"
     ]
    }
   ],
   "source": [
    "df['revenue'].fillna(df['revenue'].mean(), inplace=True)\n",
    "print(df.head()) \n"
   ]
  },
  {
   "cell_type": "code",
   "execution_count": 14,
   "id": "92d02de4-d9d1-4d91-b806-f261b4c9e739",
   "metadata": {},
   "outputs": [
    {
     "name": "stdout",
     "output_type": "stream",
     "text": [
      "        data   revenue        region\n",
      "0 2024-11-17  174144.0  عمان الغربية\n",
      "1 2024-11-18   12444.0         الكرك\n",
      "2 2024-11-19   13764.0         مادبا\n",
      "3 2024-11-20   15084.0         عجلون\n",
      "4 2024-11-21   16404.0          اربد\n"
     ]
    },
    {
     "name": "stderr",
     "output_type": "stream",
     "text": [
      "C:\\Users\\PH1\\AppData\\Local\\Temp\\ipykernel_12896\\638304591.py:1: FutureWarning: A value is trying to be set on a copy of a DataFrame or Series through chained assignment using an inplace method.\n",
      "The behavior will change in pandas 3.0. This inplace method will never work because the intermediate object on which we are setting values always behaves as a copy.\n",
      "\n",
      "For example, when doing 'df[col].method(value, inplace=True)', try using 'df.method({col: value}, inplace=True)' or df[col] = df[col].method(value) instead, to perform the operation inplace on the original object.\n",
      "\n",
      "\n",
      "  df['revenue'].fillna(df['revenue'].mean(), inplace=True)\n"
     ]
    }
   ],
   "source": [
    "df['revenue'].fillna(df['revenue'].mean(), inplace=True)\n",
    "print(df.head()) \n"
   ]
  },
  {
   "cell_type": "code",
   "execution_count": 37,
   "id": "99243e74-3f01-4770-99f9-c7a01b1cf1a7",
   "metadata": {},
   "outputs": [],
   "source": [
    "\n",
    "df.to_excel(\"d:/lecture 1 python.xlsx\", index=False)\n"
   ]
  },
  {
   "cell_type": "code",
   "execution_count": 15,
   "id": "5099a1e7-f77a-4c8e-a5ed-37f8f34e05f7",
   "metadata": {},
   "outputs": [
    {
     "name": "stdout",
     "output_type": "stream",
     "text": [
      "        data   revenue        region performance\n",
      "0 2024-11-17  174144.0  عمان الغربية        High\n",
      "1 2024-11-18   12444.0         الكرك        High\n",
      "2 2024-11-19   13764.0         مادبا        High\n",
      "3 2024-11-20   15084.0         عجلون        High\n",
      "4 2024-11-21   16404.0          اربد        High\n"
     ]
    }
   ],
   "source": [
    "import numpy as np\n",
    "df[\"performance\"] = np.where(df[\"revenue\"] >= 1200, \"High\", \"Low\")\n",
    "print(df.head()) \n"
   ]
  },
  {
   "cell_type": "code",
   "execution_count": 33,
   "id": "0348da5b-babd-454d-8a43-bc8588fbf007",
   "metadata": {},
   "outputs": [
    {
     "data": {
      "text/html": [
       "<div>\n",
       "<style scoped>\n",
       "    .dataframe tbody tr th:only-of-type {\n",
       "        vertical-align: middle;\n",
       "    }\n",
       "\n",
       "    .dataframe tbody tr th {\n",
       "        vertical-align: top;\n",
       "    }\n",
       "\n",
       "    .dataframe thead th {\n",
       "        text-align: right;\n",
       "    }\n",
       "</style>\n",
       "<table border=\"1\" class=\"dataframe\">\n",
       "  <thead>\n",
       "    <tr style=\"text-align: right;\">\n",
       "      <th></th>\n",
       "      <th>data</th>\n",
       "      <th>revenue</th>\n",
       "      <th>region</th>\n",
       "      <th>performance</th>\n",
       "      <th>day_name</th>\n",
       "      <th>month_name</th>\n",
       "      <th>year</th>\n",
       "      <th>month</th>\n",
       "      <th>day</th>\n",
       "      <th>hour</th>\n",
       "      <th>minute</th>\n",
       "      <th>second</th>\n",
       "      <th>quarter</th>\n",
       "    </tr>\n",
       "  </thead>\n",
       "  <tbody>\n",
       "    <tr>\n",
       "      <th>0</th>\n",
       "      <td>2024-11-17</td>\n",
       "      <td>174144.0</td>\n",
       "      <td>عمان الغربية</td>\n",
       "      <td>High</td>\n",
       "      <td>Sunday</td>\n",
       "      <td>November</td>\n",
       "      <td>2024</td>\n",
       "      <td>11</td>\n",
       "      <td>17</td>\n",
       "      <td>0</td>\n",
       "      <td>0</td>\n",
       "      <td>0</td>\n",
       "      <td>4</td>\n",
       "    </tr>\n",
       "    <tr>\n",
       "      <th>1</th>\n",
       "      <td>2024-11-18</td>\n",
       "      <td>12444.0</td>\n",
       "      <td>الكرك</td>\n",
       "      <td>High</td>\n",
       "      <td>Monday</td>\n",
       "      <td>November</td>\n",
       "      <td>2024</td>\n",
       "      <td>11</td>\n",
       "      <td>18</td>\n",
       "      <td>0</td>\n",
       "      <td>0</td>\n",
       "      <td>0</td>\n",
       "      <td>4</td>\n",
       "    </tr>\n",
       "    <tr>\n",
       "      <th>2</th>\n",
       "      <td>2024-11-19</td>\n",
       "      <td>13764.0</td>\n",
       "      <td>مادبا</td>\n",
       "      <td>High</td>\n",
       "      <td>Tuesday</td>\n",
       "      <td>November</td>\n",
       "      <td>2024</td>\n",
       "      <td>11</td>\n",
       "      <td>19</td>\n",
       "      <td>0</td>\n",
       "      <td>0</td>\n",
       "      <td>0</td>\n",
       "      <td>4</td>\n",
       "    </tr>\n",
       "    <tr>\n",
       "      <th>3</th>\n",
       "      <td>2024-11-20</td>\n",
       "      <td>15084.0</td>\n",
       "      <td>عجلون</td>\n",
       "      <td>High</td>\n",
       "      <td>Wednesday</td>\n",
       "      <td>November</td>\n",
       "      <td>2024</td>\n",
       "      <td>11</td>\n",
       "      <td>20</td>\n",
       "      <td>0</td>\n",
       "      <td>0</td>\n",
       "      <td>0</td>\n",
       "      <td>4</td>\n",
       "    </tr>\n",
       "    <tr>\n",
       "      <th>4</th>\n",
       "      <td>2024-11-21</td>\n",
       "      <td>16404.0</td>\n",
       "      <td>اربد</td>\n",
       "      <td>High</td>\n",
       "      <td>Thursday</td>\n",
       "      <td>November</td>\n",
       "      <td>2024</td>\n",
       "      <td>11</td>\n",
       "      <td>21</td>\n",
       "      <td>0</td>\n",
       "      <td>0</td>\n",
       "      <td>0</td>\n",
       "      <td>4</td>\n",
       "    </tr>\n",
       "  </tbody>\n",
       "</table>\n",
       "</div>"
      ],
      "text/plain": [
       "        data   revenue        region performance   day_name month_name  year  \\\n",
       "0 2024-11-17  174144.0  عمان الغربية        High     Sunday   November  2024   \n",
       "1 2024-11-18   12444.0         الكرك        High     Monday   November  2024   \n",
       "2 2024-11-19   13764.0         مادبا        High    Tuesday   November  2024   \n",
       "3 2024-11-20   15084.0         عجلون        High  Wednesday   November  2024   \n",
       "4 2024-11-21   16404.0          اربد        High   Thursday   November  2024   \n",
       "\n",
       "   month  day  hour  minute  second  quarter  \n",
       "0     11   17     0       0       0        4  \n",
       "1     11   18     0       0       0        4  \n",
       "2     11   19     0       0       0        4  \n",
       "3     11   20     0       0       0        4  \n",
       "4     11   21     0       0       0        4  "
      ]
     },
     "metadata": {},
     "output_type": "display_data"
    }
   ],
   "source": [
    "\n",
    "df[\"day_name\"] = df[\"data\"].dt.day_name()  # اسم اليوم (مثل الأحد، الإثنين)\n",
    "df[\"month_name\"] = df[\"data\"].dt.month_name()  # اسم الشهر (يناير، فبراير)\n",
    "df[\"year\"] = df[\"data\"].dt.year\n",
    "df[\"month\"] = df[\"data\"].dt.month\n",
    "df[\"day\"] = df[\"data\"].dt.day\n",
    "df[\"hour\"] = df[\"data\"].dt.hour\n",
    "df[\"minute\"] = df[\"data\"].dt.minute\n",
    "df[\"second\"] = df[\"data\"].dt.second\n",
    "df[\"quarter\"] = df[\"data\"].dt.quarter  \n",
    "\n",
    "display(df.head()) \n"
   ]
  },
  {
   "cell_type": "code",
   "execution_count": 16,
   "id": "5a302523-16ec-42d0-87b5-5d562a254a4c",
   "metadata": {},
   "outputs": [
    {
     "name": "stdout",
     "output_type": "stream",
     "text": [
      "        data   revenue        region performance  semester\n",
      "0 2024-11-17  174144.0  عمان الغربية        High         2\n",
      "1 2024-11-18   12444.0         الكرك        High         2\n",
      "2 2024-11-19   13764.0         مادبا        High         2\n",
      "3 2024-11-20   15084.0         عجلون        High         2\n",
      "4 2024-11-21   16404.0          اربد        High         2\n"
     ]
    }
   ],
   "source": [
    "\n",
    "df[\"semester\"] = df[\"data\"].dt.month.map(lambda x: 1 if x <= 6 else 2)  # تصنيف إلى نصفين سنويين\n",
    "\n",
    "print(df.head()) \n"
   ]
  },
  {
   "cell_type": "code",
   "execution_count": 38,
   "id": "288a4fc4-fe3c-4109-8c37-1141177d1a39",
   "metadata": {},
   "outputs": [
    {
     "name": "stdout",
     "output_type": "stream",
     "text": [
      "        data   revenue        region performance   day_name month_name  year  \\\n",
      "0 2024-11-17  174144.0  عمان الغربية        High     Sunday   November  2024   \n",
      "1 2024-11-18   12444.0         الكرك        High     Monday   November  2024   \n",
      "2 2024-11-19   13764.0         مادبا        High    Tuesday   November  2024   \n",
      "3 2024-11-20   15084.0         عجلون        High  Wednesday   November  2024   \n",
      "4 2024-11-21   16404.0          اربد        High   Thursday   November  2024   \n",
      "\n",
      "   month  day  hour  minute  second  quarter  semester  week_number  \n",
      "0     11   17     0       0       0        4         2           46  \n",
      "1     11   18     0       0       0        4         2           47  \n",
      "2     11   19     0       0       0        4         2           47  \n",
      "3     11   20     0       0       0        4         2           47  \n",
      "4     11   21     0       0       0        4         2           47  \n"
     ]
    }
   ],
   "source": [
    "\n",
    "df[\"week_number\"] = df[\"data\"].dt.isocalendar().week\n",
    "print(df.head()) \n"
   ]
  },
  {
   "cell_type": "code",
   "execution_count": 44,
   "id": "481b285a-b5be-4654-9ba2-8e89ac465f77",
   "metadata": {},
   "outputs": [
    {
     "name": "stdout",
     "output_type": "stream",
     "text": [
      "        data   revenue        region performance   day_name month_name  year  \\\n",
      "0 2024-11-17  174144.0  عمان الغربية        High     Sunday   November  2024   \n",
      "1 2024-11-18   12444.0         الكرك        High     Monday   November  2024   \n",
      "2 2024-11-19   13764.0         مادبا        High    Tuesday   November  2024   \n",
      "3 2024-11-20   15084.0         عجلون        High  Wednesday   November  2024   \n",
      "4 2024-11-21   16404.0          اربد        High   Thursday   November  2024   \n",
      "\n",
      "   month  day  hour  minute  second  quarter  semester  week_number  \\\n",
      "0     11   17     0       0       0        4         2           46   \n",
      "1     11   18     0       0       0        4         2           47   \n",
      "2     11   19     0       0       0        4         2           47   \n",
      "3     11   20     0       0       0        4         2           47   \n",
      "4     11   21     0       0       0        4         2           47   \n",
      "\n",
      "  month_start  \n",
      "0  2024-11-01  \n",
      "1  2024-11-01  \n",
      "2  2024-11-01  \n",
      "3  2024-11-01  \n",
      "4  2024-11-01  \n"
     ]
    }
   ],
   "source": [
    "\n",
    "df[\"month_start\"] = df[\"data\"].dt.to_period(\"M\").dt.start_time\n",
    "print(df.head()) \n"
   ]
  },
  {
   "cell_type": "code",
   "execution_count": 45,
   "id": "9feb745b-8fd5-4813-bbf6-d5c33148d6cf",
   "metadata": {},
   "outputs": [
    {
     "name": "stdout",
     "output_type": "stream",
     "text": [
      "متوسط الايرادات\n",
      "174144.0\n"
     ]
    }
   ],
   "source": [
    "\n",
    "average_revenue = df['revenue'].mean()\n",
    "print(\"متوسط الايرادات\")\n",
    "print(average_revenue)\n"
   ]
  },
  {
   "cell_type": "code",
   "execution_count": 17,
   "id": "c7698db9-48e1-47fd-b2d2-2705343499d0",
   "metadata": {},
   "outputs": [
    {
     "data": {
      "text/html": [
       "<div>\n",
       "<style scoped>\n",
       "    .dataframe tbody tr th:only-of-type {\n",
       "        vertical-align: middle;\n",
       "    }\n",
       "\n",
       "    .dataframe tbody tr th {\n",
       "        vertical-align: top;\n",
       "    }\n",
       "\n",
       "    .dataframe thead th {\n",
       "        text-align: right;\n",
       "    }\n",
       "</style>\n",
       "<table border=\"1\" class=\"dataframe\">\n",
       "  <thead>\n",
       "    <tr style=\"text-align: right;\">\n",
       "      <th>region</th>\n",
       "      <th>اربد</th>\n",
       "      <th>الزرقاء</th>\n",
       "      <th>السلط</th>\n",
       "      <th>الطفيلة</th>\n",
       "      <th>الكرك</th>\n",
       "      <th>المنطقة</th>\n",
       "      <th>عجلون</th>\n",
       "      <th>عمان الغربية</th>\n",
       "      <th>مادبا</th>\n",
       "    </tr>\n",
       "  </thead>\n",
       "  <tbody>\n",
       "    <tr>\n",
       "      <th>revenue</th>\n",
       "      <td>4179456.0</td>\n",
       "      <td>4211136.0</td>\n",
       "      <td>4274496.0</td>\n",
       "      <td>4242816.0</td>\n",
       "      <td>5992740.0</td>\n",
       "      <td>1879284.0</td>\n",
       "      <td>6085140.0</td>\n",
       "      <td>6109560.0</td>\n",
       "      <td>6038940.0</td>\n",
       "    </tr>\n",
       "  </tbody>\n",
       "</table>\n",
       "</div>"
      ],
      "text/plain": [
       "region        اربد    الزرقاء      السلط    الطفيلة      الكرك    المنطقة  \\\n",
       "revenue  4179456.0  4211136.0  4274496.0  4242816.0  5992740.0  1879284.0   \n",
       "\n",
       "region       عجلون  عمان الغربية      مادبا  \n",
       "revenue  6085140.0     6109560.0  6038940.0  "
      ]
     },
     "metadata": {},
     "output_type": "display_data"
    }
   ],
   "source": [
    "\n",
    "pivot = df.pivot_table(values='revenue', columns='region', aggfunc='sum')\n",
    "display(pivot)\n"
   ]
  },
  {
   "cell_type": "code",
   "execution_count": null,
   "id": "d8143269-1c2f-441a-b7ab-71816e920fcb",
   "metadata": {},
   "outputs": [],
   "source": []
  }
 ],
 "metadata": {
  "kernelspec": {
   "display_name": "Python [conda env:base] *",
   "language": "python",
   "name": "conda-base-py"
  },
  "language_info": {
   "codemirror_mode": {
    "name": "ipython",
    "version": 3
   },
   "file_extension": ".py",
   "mimetype": "text/x-python",
   "name": "python",
   "nbconvert_exporter": "python",
   "pygments_lexer": "ipython3",
   "version": "3.13.5"
  }
 },
 "nbformat": 4,
 "nbformat_minor": 5
}
