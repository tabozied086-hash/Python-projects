{
 "cells": [
  {
   "cell_type": "code",
   "execution_count": 1,
   "id": "8c3c9eed-bdeb-43a0-bc52-2372f8dc4ae6",
   "metadata": {},
   "outputs": [
    {
     "name": "stdout",
     "output_type": "stream",
     "text": [
      "   EmpID          Name        ID No.                   department      \\\n",
      "0  52578  Emp        1  2.840000e+13                      Maintenance   \n",
      "1  50880         Emp 2  2.920000e+13                        Logistics   \n",
      "2  57337         Emp 3  3.000000e+13                    Manufacturing   \n",
      "3  55115         Emp 4  2.960000e+13            Administration          \n",
      "4  59675         Emp 5  2.930000e+13                          Finance   \n",
      "\n",
      "    Gender         DOB        Age    PayType           Position  \\\n",
      "0     Male  26/01/1984  41.655556  Part Time            Manager   \n",
      "1     Male  24/11/1992  32.827778  Part Time           Employee   \n",
      "2     Male  09/10/2000  24.952778  Part Time           Employee   \n",
      "3   Female  19/06/1996  29.258333  Full Time           Employee   \n",
      "4     Male  21/09/1993  32.002778  Part Time           Employee   \n",
      "\n",
      "                     Branch Place of Birth   Hire date  Years no.      Salary  \n",
      "0                      Giza          Cairo  12/06/2022          3  EGP 21,194  \n",
      "1                Alexandria        Sharqia  13/06/2022          3   EGP 5,008  \n",
      "2                  Ismailia           Giza  14/06/2022          3   EGP 3,009  \n",
      "3                      Giza        Monufia  15/06/2022          3         NaN  \n",
      "4                  Ismailia          Cairo  16/06/2022          3         NaN  \n"
     ]
    }
   ],
   "source": [
    "import pandas as pd\n",
    "\n",
    "file_name = \"hr.csv\"\n",
    "df = pd.read_csv(file_name, sep=';')\n",
    "print(df.head())\n"
   ]
  },
  {
   "cell_type": "code",
   "execution_count": 12,
   "id": "ee484dc2-8d2a-4c20-a1b8-54449d19e878",
   "metadata": {},
   "outputs": [
    {
     "name": "stdout",
     "output_type": "stream",
     "text": [
      "<class 'pandas.core.frame.DataFrame'>\n",
      "RangeIndex: 1000 entries, 0 to 999\n",
      "Data columns (total 14 columns):\n",
      " #   Column              Non-Null Count  Dtype         \n",
      "---  ------              --------------  -----         \n",
      " 0   EmpID               1000 non-null   int64         \n",
      " 1   Name                1000 non-null   object        \n",
      " 2   ID No.              1000 non-null   float64       \n",
      " 3       department      1000 non-null   object        \n",
      " 4   Gender              1000 non-null   object        \n",
      " 5   DOB                 1000 non-null   datetime64[ns]\n",
      " 6   Age                 1000 non-null   float64       \n",
      " 7   PayType             1000 non-null   object        \n",
      " 8   Position            1000 non-null   object        \n",
      " 9   Branch              1000 non-null   object        \n",
      " 10  Place of Birth      1000 non-null   object        \n",
      " 11  Hire date           392 non-null    datetime64[ns]\n",
      " 12  Years no.           1000 non-null   int64         \n",
      " 13  Salary              994 non-null    float64       \n",
      "dtypes: datetime64[ns](2), float64(3), int64(2), object(7)\n",
      "memory usage: 109.5+ KB\n",
      "None\n"
     ]
    }
   ],
   "source": [
    "print(df.info())"
   ]
  },
  {
   "cell_type": "code",
   "execution_count": 5,
   "id": "004aed84-e754-4913-9322-493a992df7f6",
   "metadata": {},
   "outputs": [],
   "source": [
    "df[\"Hire date\"] = pd.to_datetime(df[\"Hire date\"], errors='coerce')"
   ]
  },
  {
   "cell_type": "code",
   "execution_count": 6,
   "id": "df33d5ad-c1e8-45b5-8d2a-e4de24878347",
   "metadata": {},
   "outputs": [],
   "source": [
    "df[\"DOB\"] = pd.to_datetime(df[\"DOB\"], errors='coerce')"
   ]
  },
  {
   "cell_type": "code",
   "execution_count": 8,
   "id": "60db5861-cac3-43e8-9348-ca8cb11dcf11",
   "metadata": {},
   "outputs": [
    {
     "name": "stdout",
     "output_type": "stream",
     "text": [
      "   EmpID   Name        ID No.     department      Gender        DOB  \\\n",
      "0  52578  Emp 1  2.840000e+13        Maintenance    Male 1984-01-26   \n",
      "1  50880  Emp 2  2.920000e+13          Logistics    Male 1992-11-24   \n",
      "2  57337  Emp 3  3.000000e+13      Manufacturing    Male 2000-10-09   \n",
      "3  55115  Emp 4  2.960000e+13     Administration  Female 1996-06-19   \n",
      "4  59675  Emp 5  2.930000e+13            Finance    Male 1993-09-21   \n",
      "\n",
      "         Age    PayType  Position      Branch Place of Birth  Hire date  \\\n",
      "0  41.655556  Part Time   Manager        Giza          Cairo 2022-12-06   \n",
      "1  32.827778  Part Time  Employee  Alexandria        Sharqia        NaT   \n",
      "2  24.952778  Part Time  Employee    Ismailia           Giza        NaT   \n",
      "3  29.258333  Full Time  Employee        Giza        Monufia        NaT   \n",
      "4  32.002778  Part Time  Employee    Ismailia          Cairo        NaT   \n",
      "\n",
      "   Years no.      Salary  \n",
      "0          3  EGP 21,194  \n",
      "1          3   EGP 5,008  \n",
      "2          3   EGP 3,009  \n",
      "3          3         NaN  \n",
      "4          3         NaN  \n"
     ]
    }
   ],
   "source": [
    "for col in df.select_dtypes(include='object').columns:\n",
    "    df[col] = df[col].str.replace(r'\\s+', ' ', regex=True).str.strip()\n",
    "print(df.head())\n"
   ]
  },
  {
   "cell_type": "code",
   "execution_count": 9,
   "id": "5fa342a3-bb8f-4301-8eac-a3f62edc94f5",
   "metadata": {},
   "outputs": [
    {
     "name": "stdout",
     "output_type": "stream",
     "text": [
      "EmpID                   0\n",
      "Name                    0\n",
      "ID No.                  0\n",
      "    department          0\n",
      "Gender                  0\n",
      "DOB                     0\n",
      "Age                     0\n",
      "PayType                 0\n",
      "Position                0\n",
      "Branch                  0\n",
      "Place of Birth          0\n",
      "Hire date             608\n",
      "Years no.               0\n",
      "Salary                  6\n",
      "dtype: int64\n"
     ]
    }
   ],
   "source": [
    "null_counts = df.isnull().sum() \n",
    "print(null_counts)\n"
   ]
  },
  {
   "cell_type": "code",
   "execution_count": 17,
   "id": "d9ee4048-94c3-4a72-9107-dc04593c5b55",
   "metadata": {},
   "outputs": [],
   "source": [
    "\n",
    "df.to_excel(\"d:/hr project.xlsx\", index=False)\n"
   ]
  },
  {
   "cell_type": "code",
   "execution_count": 11,
   "id": "cf4bf055-c85c-442b-8f4d-6a518bf6fb64",
   "metadata": {},
   "outputs": [
    {
     "name": "stdout",
     "output_type": "stream",
     "text": [
      "   EmpID   Name        ID No.     department      Gender        DOB  \\\n",
      "0  52578  Emp 1  2.840000e+13        Maintenance    Male 1984-01-26   \n",
      "1  50880  Emp 2  2.920000e+13          Logistics    Male 1992-11-24   \n",
      "2  57337  Emp 3  3.000000e+13      Manufacturing    Male 2000-10-09   \n",
      "3  55115  Emp 4  2.960000e+13     Administration  Female 1996-06-19   \n",
      "4  59675  Emp 5  2.930000e+13            Finance    Male 1993-09-21   \n",
      "\n",
      "         Age    PayType  Position      Branch Place of Birth  Hire date  \\\n",
      "0  41.655556  Part Time   Manager        Giza          Cairo 2022-12-06   \n",
      "1  32.827778  Part Time  Employee  Alexandria        Sharqia        NaT   \n",
      "2  24.952778  Part Time  Employee    Ismailia           Giza        NaT   \n",
      "3  29.258333  Full Time  Employee        Giza        Monufia        NaT   \n",
      "4  32.002778  Part Time  Employee    Ismailia          Cairo        NaT   \n",
      "\n",
      "   Years no.   Salary  \n",
      "0          3  21194.0  \n",
      "1          3   5008.0  \n",
      "2          3   3009.0  \n",
      "3          3      NaN  \n",
      "4          3      NaN  \n"
     ]
    }
   ],
   "source": [
    "df['Salary'] = pd.to_numeric(df['Salary'].str.replace('EGP', '').str.replace(',', '').str.strip(), errors='coerce')\n",
    "print(df.head())\n"
   ]
  },
  {
   "cell_type": "code",
   "execution_count": 14,
   "id": "1fe84bd6-99cd-4c94-8150-177f7bd30ba5",
   "metadata": {},
   "outputs": [
    {
     "data": {
      "text/plain": [
       "EmpID                   0\n",
       "Name                    0\n",
       "ID No.                  0\n",
       "    department          0\n",
       "Gender                  0\n",
       "DOB                     0\n",
       "Age                     0\n",
       "PayType                 0\n",
       "Position                0\n",
       "Branch                  0\n",
       "Place of Birth          0\n",
       "Hire date             608\n",
       "Years no.               0\n",
       "Salary                  6\n",
       "dtype: int64"
      ]
     },
     "execution_count": 14,
     "metadata": {},
     "output_type": "execute_result"
    }
   ],
   "source": [
    "df.isna().sum()"
   ]
  },
  {
   "cell_type": "code",
   "execution_count": 15,
   "id": "47a66ff7-328d-46fb-aa53-dcb01d7bfb82",
   "metadata": {},
   "outputs": [
    {
     "name": "stdout",
     "output_type": "stream",
     "text": [
      "    EmpID    Name        ID No.     department     Gender        DOB  \\\n",
      "0   52578   Emp 1  2.840000e+13        Maintenance   Male 1984-01-26   \n",
      "19  58595  Emp 20  2.920000e+13          Marketing   Male 1992-05-24   \n",
      "20  50801  Emp 21  3.030000e+13  Quality Assurance   Male 2003-01-07   \n",
      "21  51831  Emp 22  3.030000e+13          Marketing   Male 2003-02-23   \n",
      "22  59021  Emp 23  3.030000e+13          Marketing   Male 2003-06-26   \n",
      "\n",
      "          Age    PayType    Position    Branch Place of Birth  Hire date  \\\n",
      "0   41.655556  Part Time     Manager      Giza          Cairo 2022-12-06   \n",
      "19  33.327778  Part Time  Supervisor  Ismailia          Cairo 2022-01-07   \n",
      "20  22.708333  Part Time    Employee   Sharqia          Cairo 2022-02-07   \n",
      "21  22.580556  Full Time    Employee      Giza        Sharqia 2022-03-07   \n",
      "22  22.238889  Full Time    Employee     Cairo       Ismailia 2022-04-07   \n",
      "\n",
      "    Years no.   Salary  \n",
      "0           3  21194.0  \n",
      "19          3  11896.0  \n",
      "20          3   3906.0  \n",
      "21          3   3772.0  \n",
      "22          3   4089.0  \n"
     ]
    }
   ],
   "source": [
    "\n",
    "df = df.dropna() \t\n",
    "print(df.head()) \n"
   ]
  },
  {
   "cell_type": "code",
   "execution_count": 16,
   "id": "efd27860-e3fd-4a09-b50f-c62a6a8c0175",
   "metadata": {},
   "outputs": [
    {
     "data": {
      "text/plain": [
       "EmpID                 0\n",
       "Name                  0\n",
       "ID No.                0\n",
       "    department        0\n",
       "Gender                0\n",
       "DOB                   0\n",
       "Age                   0\n",
       "PayType               0\n",
       "Position              0\n",
       "Branch                0\n",
       "Place of Birth        0\n",
       "Hire date             0\n",
       "Years no.             0\n",
       "Salary                0\n",
       "dtype: int64"
      ]
     },
     "execution_count": 16,
     "metadata": {},
     "output_type": "execute_result"
    }
   ],
   "source": [
    "df.isna().sum()"
   ]
  },
  {
   "cell_type": "code",
   "execution_count": null,
   "id": "f17736df-5748-42a7-81d2-62d84648556f",
   "metadata": {},
   "outputs": [],
   "source": []
  }
 ],
 "metadata": {
  "kernelspec": {
   "display_name": "Python [conda env:base] *",
   "language": "python",
   "name": "conda-base-py"
  },
  "language_info": {
   "codemirror_mode": {
    "name": "ipython",
    "version": 3
   },
   "file_extension": ".py",
   "mimetype": "text/x-python",
   "name": "python",
   "nbconvert_exporter": "python",
   "pygments_lexer": "ipython3",
   "version": "3.13.5"
  }
 },
 "nbformat": 4,
 "nbformat_minor": 5
}
