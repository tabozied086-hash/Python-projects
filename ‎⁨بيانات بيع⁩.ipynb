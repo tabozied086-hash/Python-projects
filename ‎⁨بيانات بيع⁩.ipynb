{
 "cells": [
  {
   "cell_type": "code",
   "execution_count": 1,
   "id": "a0569806-5e7d-49e7-9b09-4ef34527a9ba",
   "metadata": {},
   "outputs": [
    {
     "data": {
      "text/html": [
       "<div>\n",
       "<style scoped>\n",
       "    .dataframe tbody tr th:only-of-type {\n",
       "        vertical-align: middle;\n",
       "    }\n",
       "\n",
       "    .dataframe tbody tr th {\n",
       "        vertical-align: top;\n",
       "    }\n",
       "\n",
       "    .dataframe thead th {\n",
       "        text-align: right;\n",
       "    }\n",
       "</style>\n",
       "<table border=\"1\" class=\"dataframe\">\n",
       "  <thead>\n",
       "    <tr style=\"text-align: right;\">\n",
       "      <th></th>\n",
       "      <th>Date</th>\n",
       "      <th>Product</th>\n",
       "      <th>Category</th>\n",
       "      <th>Quantity</th>\n",
       "      <th>Price</th>\n",
       "      <th>Total_Sales</th>\n",
       "      <th>Month</th>\n",
       "    </tr>\n",
       "  </thead>\n",
       "  <tbody>\n",
       "    <tr>\n",
       "      <th>0</th>\n",
       "      <td>01/01/2024</td>\n",
       "      <td>Laptop</td>\n",
       "      <td>Gadgets</td>\n",
       "      <td>2</td>\n",
       "      <td>1000</td>\n",
       "      <td>2000</td>\n",
       "      <td>April</td>\n",
       "    </tr>\n",
       "    <tr>\n",
       "      <th>1</th>\n",
       "      <td>13/04/2024</td>\n",
       "      <td>Monitor</td>\n",
       "      <td>Electronics</td>\n",
       "      <td>2</td>\n",
       "      <td>300</td>\n",
       "      <td>600</td>\n",
       "      <td>June</td>\n",
       "    </tr>\n",
       "    <tr>\n",
       "      <th>2</th>\n",
       "      <td>14/04/2024</td>\n",
       "      <td>Laptop</td>\n",
       "      <td>Accessories</td>\n",
       "      <td>5</td>\n",
       "      <td>1000</td>\n",
       "      <td>5000</td>\n",
       "      <td>April</td>\n",
       "    </tr>\n",
       "    <tr>\n",
       "      <th>3</th>\n",
       "      <td>15/04/2024</td>\n",
       "      <td>Laptop</td>\n",
       "      <td>Accessories</td>\n",
       "      <td>5</td>\n",
       "      <td>1000</td>\n",
       "      <td>5000</td>\n",
       "      <td>January</td>\n",
       "    </tr>\n",
       "    <tr>\n",
       "      <th>4</th>\n",
       "      <td>16/04/2024</td>\n",
       "      <td>Phone</td>\n",
       "      <td>Accessories</td>\n",
       "      <td>6</td>\n",
       "      <td>700</td>\n",
       "      <td>4200</td>\n",
       "      <td>April</td>\n",
       "    </tr>\n",
       "  </tbody>\n",
       "</table>\n",
       "</div>"
      ],
      "text/plain": [
       "         Date  Product     Category  Quantity  Price  Total_Sales    Month\n",
       "0  01/01/2024   Laptop      Gadgets         2   1000         2000    April\n",
       "1  13/04/2024  Monitor  Electronics         2    300          600     June\n",
       "2  14/04/2024   Laptop  Accessories         5   1000         5000    April\n",
       "3  15/04/2024   Laptop  Accessories         5   1000         5000  January\n",
       "4  16/04/2024    Phone  Accessories         6    700         4200    April"
      ]
     },
     "metadata": {},
     "output_type": "display_data"
    }
   ],
   "source": [
    "#1استيراد الملف الجديد اسمه بيانات بيع \n",
    "import pandas as pd\n",
    "\n",
    "file_name = \"بيانات بيع.csv\"\n",
    "\n",
    "df = pd.read_csv(file_name, sep=';')\n",
    "display(df.head())\n"
   ]
  },
  {
   "cell_type": "code",
   "execution_count": 2,
   "id": "8739a7c9-bb03-4952-8f4a-b2cbef237557",
   "metadata": {},
   "outputs": [
    {
     "name": "stdout",
     "output_type": "stream",
     "text": [
      "<class 'pandas.core.frame.DataFrame'>\n",
      "RangeIndex: 200 entries, 0 to 199\n",
      "Data columns (total 7 columns):\n",
      " #   Column       Non-Null Count  Dtype \n",
      "---  ------       --------------  ----- \n",
      " 0   Date         200 non-null    object\n",
      " 1   Product      200 non-null    object\n",
      " 2   Category     200 non-null    object\n",
      " 3   Quantity     200 non-null    int64 \n",
      " 4   Price        200 non-null    int64 \n",
      " 5   Total_Sales  200 non-null    int64 \n",
      " 6   Month        200 non-null    object\n",
      "dtypes: int64(3), object(4)\n",
      "memory usage: 11.1+ KB\n",
      "None\n"
     ]
    }
   ],
   "source": [
    "print(df.info())"
   ]
  },
  {
   "cell_type": "code",
   "execution_count": 3,
   "id": "51069a8b-8ba1-4a4c-abb0-5fe9ecb42dd3",
   "metadata": {},
   "outputs": [],
   "source": [
    "df[\"Date\"] = pd.to_datetime(df[\"Date\"],dayfirst=True, errors=\"coerce\") "
   ]
  },
  {
   "cell_type": "code",
   "execution_count": 4,
   "id": "b26c74e3-77a4-4d68-a461-1eb017defb69",
   "metadata": {},
   "outputs": [
    {
     "name": "stdout",
     "output_type": "stream",
     "text": [
      "<class 'pandas.core.frame.DataFrame'>\n",
      "RangeIndex: 200 entries, 0 to 199\n",
      "Data columns (total 7 columns):\n",
      " #   Column       Non-Null Count  Dtype         \n",
      "---  ------       --------------  -----         \n",
      " 0   Date         200 non-null    datetime64[ns]\n",
      " 1   Product      200 non-null    object        \n",
      " 2   Category     200 non-null    object        \n",
      " 3   Quantity     200 non-null    int64         \n",
      " 4   Price        200 non-null    int64         \n",
      " 5   Total_Sales  200 non-null    int64         \n",
      " 6   Month        200 non-null    object        \n",
      "dtypes: datetime64[ns](1), int64(3), object(3)\n",
      "memory usage: 11.1+ KB\n",
      "None\n"
     ]
    }
   ],
   "source": [
    "print(df.info())"
   ]
  },
  {
   "cell_type": "code",
   "execution_count": null,
   "id": "90caa772-ec7d-4a48-a357-88c8cfc77d83",
   "metadata": {},
   "outputs": [],
   "source": []
  },
  {
   "cell_type": "code",
   "execution_count": 5,
   "id": "32a9983e-d1f1-46e6-97f6-e670e4220f6f",
   "metadata": {},
   "outputs": [
    {
     "name": "stdout",
     "output_type": "stream",
     "text": [
      "        Date  Product     Category  Quantity  Price  Total_Sales    Month\n",
      "0 2024-01-01   Laptop      Gadgets         2   1000         2000    April\n",
      "1 2024-04-13  Monitor  Electronics         2    300          600     June\n",
      "2 2024-04-14   Laptop  Accessories         5   1000         5000    April\n",
      "3 2024-04-15   Laptop  Accessories         5   1000         5000  January\n",
      "4 2024-04-16    Phone  Accessories         6    700         4200    April\n"
     ]
    }
   ],
   "source": [
    "for col in df.select_dtypes(include='object').columns:\n",
    "    df[col] = df[col].str.replace(r'\\s+', ' ', regex=True).str.strip()\n",
    "print(df.head())\n"
   ]
  },
  {
   "cell_type": "code",
   "execution_count": 8,
   "id": "9dd263bb-d34b-4a1b-9ad9-dd8eaf0d16d3",
   "metadata": {},
   "outputs": [
    {
     "name": "stdout",
     "output_type": "stream",
     "text": [
      "      Product  Quantity\n",
      "0  Headphones       127\n",
      "1      Laptop       220\n",
      "2     Monitor       262\n",
      "3       Phone       176\n",
      "4      Tablet       160\n"
     ]
    }
   ],
   "source": [
    "\n",
    "product_quantity = df.groupby(\"Product\")[\"Quantity\"].sum().reset_index()\n",
    "print(product_quantity)\n"
   ]
  },
  {
   "cell_type": "code",
   "execution_count": 9,
   "id": "f2468840-44ed-47e9-847c-8fe001785339",
   "metadata": {},
   "outputs": [
    {
     "name": "stdout",
     "output_type": "stream",
     "text": [
      "      Category  Quantity\n",
      "0  Accessories       310\n",
      "1  Electronics       386\n",
      "2      Gadgets       249\n"
     ]
    }
   ],
   "source": [
    "\n",
    "category_quantity = df.groupby(\"Category\")[\"Quantity\"].sum().reset_index()\n",
    "print(category_quantity)\n"
   ]
  },
  {
   "cell_type": "code",
   "execution_count": 11,
   "id": "c35dcbc7-1ab2-4d90-9028-104e6e98cb83",
   "metadata": {},
   "outputs": [
    {
     "name": "stdout",
     "output_type": "stream",
     "text": [
      "      Product  Total_Sales\n",
      "0  Headphones        12700\n",
      "1      Laptop       220000\n",
      "2     Monitor        78600\n",
      "3       Phone       123200\n",
      "4      Tablet        80000\n"
     ]
    }
   ],
   "source": [
    "product_total = df.groupby(\"Product\")[\"Total_Sales\"].sum().reset_index()\n",
    "print(product_total)\n"
   ]
  },
  {
   "cell_type": "code",
   "execution_count": 12,
   "id": "a0feb94a-e08e-44a1-99a4-f5a61e494801",
   "metadata": {},
   "outputs": [
    {
     "name": "stdout",
     "output_type": "stream",
     "text": [
      "      Category  Total_Sales\n",
      "0  Accessories       173200\n",
      "1  Electronics       213200\n",
      "2      Gadgets       128100\n"
     ]
    }
   ],
   "source": [
    "category_total = df.groupby(\"Category\")[\"Total_Sales\"].sum().reset_index()\n",
    "print(category_total)"
   ]
  },
  {
   "cell_type": "code",
   "execution_count": 23,
   "id": "20ee5e7e-9aa3-49fe-99a3-490cab6b8b3a",
   "metadata": {},
   "outputs": [
    {
     "data": {
      "text/html": [
       "<div>\n",
       "<style scoped>\n",
       "    .dataframe tbody tr th:only-of-type {\n",
       "        vertical-align: middle;\n",
       "    }\n",
       "\n",
       "    .dataframe tbody tr th {\n",
       "        vertical-align: top;\n",
       "    }\n",
       "\n",
       "    .dataframe thead th {\n",
       "        text-align: right;\n",
       "    }\n",
       "</style>\n",
       "<table border=\"1\" class=\"dataframe\">\n",
       "  <thead>\n",
       "    <tr style=\"text-align: right;\">\n",
       "      <th></th>\n",
       "      <th>Date</th>\n",
       "      <th>Product</th>\n",
       "      <th>Category</th>\n",
       "      <th>Quantity</th>\n",
       "      <th>Price</th>\n",
       "      <th>Total_Sales</th>\n",
       "      <th>Month</th>\n",
       "    </tr>\n",
       "  </thead>\n",
       "  <tbody>\n",
       "    <tr>\n",
       "      <th>4</th>\n",
       "      <td>2024-04-16</td>\n",
       "      <td>Phone</td>\n",
       "      <td>Accessories</td>\n",
       "      <td>6</td>\n",
       "      <td>700</td>\n",
       "      <td>4200</td>\n",
       "      <td>April</td>\n",
       "    </tr>\n",
       "    <tr>\n",
       "      <th>7</th>\n",
       "      <td>2024-04-19</td>\n",
       "      <td>Phone</td>\n",
       "      <td>Gadgets</td>\n",
       "      <td>1</td>\n",
       "      <td>700</td>\n",
       "      <td>700</td>\n",
       "      <td>January</td>\n",
       "    </tr>\n",
       "    <tr>\n",
       "      <th>15</th>\n",
       "      <td>2024-04-27</td>\n",
       "      <td>Phone</td>\n",
       "      <td>Accessories</td>\n",
       "      <td>6</td>\n",
       "      <td>700</td>\n",
       "      <td>4200</td>\n",
       "      <td>May</td>\n",
       "    </tr>\n",
       "    <tr>\n",
       "      <th>16</th>\n",
       "      <td>2024-04-28</td>\n",
       "      <td>Phone</td>\n",
       "      <td>Gadgets</td>\n",
       "      <td>3</td>\n",
       "      <td>700</td>\n",
       "      <td>2100</td>\n",
       "      <td>May</td>\n",
       "    </tr>\n",
       "    <tr>\n",
       "      <th>22</th>\n",
       "      <td>2024-05-04</td>\n",
       "      <td>Phone</td>\n",
       "      <td>Accessories</td>\n",
       "      <td>2</td>\n",
       "      <td>700</td>\n",
       "      <td>1400</td>\n",
       "      <td>February</td>\n",
       "    </tr>\n",
       "  </tbody>\n",
       "</table>\n",
       "</div>"
      ],
      "text/plain": [
       "         Date Product     Category  Quantity  Price  Total_Sales     Month\n",
       "4  2024-04-16   Phone  Accessories         6    700         4200     April\n",
       "7  2024-04-19   Phone      Gadgets         1    700          700   January\n",
       "15 2024-04-27   Phone  Accessories         6    700         4200       May\n",
       "16 2024-04-28   Phone      Gadgets         3    700         2100       May\n",
       "22 2024-05-04   Phone  Accessories         2    700         1400  February"
      ]
     },
     "metadata": {},
     "output_type": "display_data"
    }
   ],
   "source": [
    "phone_sales = df[df[\"Product\"] == \"Phone\"]\n",
    "display(phone_sales.head())\n"
   ]
  },
  {
   "cell_type": "code",
   "execution_count": 25,
   "id": "a4aad428-a5b3-4810-acf8-9ba319a15c78",
   "metadata": {
    "scrolled": true
   },
   "outputs": [
    {
     "data": {
      "image/png": "[encoded data removed]",
      "text/plain": [
       "<Figure size 1000x500 with 1 Axes>"
      ]
     },
     "metadata": {},
     "output_type": "display_data"
    }
   ],
   "source": [
    "import matplotlib.pyplot as plt\n",
    "\n",
    "plt.figure(figsize=(10, 5))\n",
    "plt.bar(phone_sales[\"Month\"], phone_sales[\"Total_Sales\"], color=\"blue\")\n",
    "plt.title(\"phone sales\")\n",
    "plt.xlabel(\"date\")\n",
    "plt.ylabel(\"total sales\")\n",
    "plt.xticks(rotation=45)\n",
    "plt.show()\n"
   ]
  },
  {
   "cell_type": "code",
   "execution_count": 26,
   "id": "861100a7-8e39-4369-bec1-1d7af585206d",
   "metadata": {},
   "outputs": [
    {
     "name": "stdout",
     "output_type": "stream",
     "text": [
      "         Date Product     Category  Quantity  Price  Total_Sales    Month\n",
      "0  2024-01-01  Laptop      Gadgets         2   1000         2000    April\n",
      "2  2024-04-14  Laptop  Accessories         5   1000         5000    April\n",
      "3  2024-04-15  Laptop  Accessories         5   1000         5000  January\n",
      "9  2024-04-21  Laptop  Accessories         4   1000         4000      May\n",
      "11 2024-04-23  Laptop  Accessories         7   1000         7000    March\n"
     ]
    }
   ],
   "source": [
    "labtop_sales = df[df[\"Product\"] == \"Laptop\"]\n",
    "print(labtop_sales.head())"
   ]
  },
  {
   "cell_type": "code",
   "execution_count": 27,
   "id": "1fa068b2-1594-4139-9ace-29d7c009e075",
   "metadata": {},
   "outputs": [
    {
     "data": {
      "image/png": "[encoded data removed]",
      "text/plain": [
       "<Figure size 1000x500 with 1 Axes>"
      ]
     },
     "metadata": {},
     "output_type": "display_data"
    }
   ],
   "source": [
    "plt.figure(figsize=(10, 5))\n",
    "plt.bar(labtop_sales[\"Month\"],labtop_sales[\"Total_Sales\"], color=\"blue\")\n",
    "plt.title(\"labtop_sales\")\n",
    "plt.xlabel(\"month\")\n",
    "plt.ylabel(\"total sales\")\n",
    "plt.xticks(rotation=45)\n",
    "plt.show()\n"
   ]
  },
  {
   "cell_type": "code",
   "execution_count": 28,
   "id": "e9abcff7-d62a-4c0d-bcc7-deab7453fafe",
   "metadata": {},
   "outputs": [
    {
     "name": "stdout",
     "output_type": "stream",
     "text": [
      "         Date Product     Category  Quantity  Price  Total_Sales     Month\n",
      "8  2024-04-20  Tablet      Gadgets         6    500         3000     April\n",
      "13 2024-04-25  Tablet  Accessories         4    500         2000     April\n",
      "21 2024-05-03  Tablet  Accessories         3    500         1500      June\n",
      "27 2024-05-09  Tablet  Accessories         1    500          500      June\n",
      "28 2024-05-10  Tablet  Electronics         3    500         1500  February\n"
     ]
    }
   ],
   "source": [
    "tablet_sales = df[df[\"Product\"] == \"Tablet\"]\n",
    "print(tablet_sales.head())"
   ]
  },
  {
   "cell_type": "code",
   "execution_count": 29,
   "id": "6e7cb2a2-3dd0-4dcd-b05c-05c4726884ed",
   "metadata": {},
   "outputs": [
    {
     "data": {
      "image/png": "[encoded data removed]",
      "text/plain": [
       "<Figure size 1000x500 with 1 Axes>"
      ]
     },
     "metadata": {},
     "output_type": "display_data"
    }
   ],
   "source": [
    "plt.figure(figsize=(10, 5))\n",
    "plt.bar(tablet_sales[\"Month\"],tablet_sales[\"Total_Sales\"], color=\"red\")\n",
    "plt.title(\"tablet_sales\")\n",
    "plt.xlabel(\"month\")\n",
    "plt.ylabel(\"total sales\")\n",
    "plt.xticks(rotation=45)\n",
    "plt.show()"
   ]
  },
  {
   "cell_type": "code",
   "execution_count": 30,
   "id": "8df152ab-dfdd-42d2-82e6-c4646229958e",
   "metadata": {},
   "outputs": [
    {
     "name": "stdout",
     "output_type": "stream",
     "text": [
      "        Date  Product     Category  Quantity  Price  Total_Sales    Month\n",
      "2 2024-04-14   Laptop  Accessories         5   1000         5000    April\n",
      "3 2024-04-15   Laptop  Accessories         5   1000         5000  January\n",
      "4 2024-04-16    Phone  Accessories         6    700         4200    April\n",
      "6 2024-04-18  Monitor  Electronics         8    300         2400     July\n",
      "8 2024-04-20   Tablet      Gadgets         6    500         3000    April\n"
     ]
    }
   ],
   "source": [
    "\n",
    "high_sales = df[df[\"Total_Sales\"] > 2000]\n",
    "print(high_sales.head())\n"
   ]
  },
  {
   "cell_type": "code",
   "execution_count": 32,
   "id": "369760ed-6e31-4d20-b061-f4c635f407e9",
   "metadata": {},
   "outputs": [
    {
     "name": "stdout",
     "output_type": "stream",
     "text": [
      "         Date     Product     Category  Quantity  Price  Total_Sales    Month\n",
      "1  2024-04-13     Monitor  Electronics         2    300          600     June\n",
      "5  2024-04-17     Monitor      Gadgets         3    300          900    March\n",
      "7  2024-04-19       Phone      Gadgets         1    700          700  January\n",
      "10 2024-04-22  Headphones      Gadgets         1    100          100    March\n",
      "17 2024-04-29     Monitor      Gadgets         6    300         1800      May\n"
     ]
    }
   ],
   "source": [
    "low_sales = df[df[\"Total_Sales\"] <2000]\n",
    "print(low_sales.head())"
   ]
  },
  {
   "cell_type": "code",
   "execution_count": 33,
   "id": "061f90a9-f53c-46a5-bf40-ac8274c5741a",
   "metadata": {},
   "outputs": [
    {
     "name": "stdout",
     "output_type": "stream",
     "text": [
      "      Product  Total_Sales\n",
      "0  Headphones        12700\n",
      "1      Laptop       220000\n",
      "2     Monitor        78600\n",
      "3       Phone       123200\n",
      "4      Tablet        80000\n"
     ]
    }
   ],
   "source": [
    "\n",
    "product_sales = df.groupby(\"Product\")[\"Total_Sales\"].sum().reset_index()\n",
    "print(product_sales)"
   ]
  },
  {
   "cell_type": "code",
   "execution_count": 34,
   "id": "cdda0e82-73af-459d-94eb-9a15b4e199f2",
   "metadata": {},
   "outputs": [
    {
     "name": "stdout",
     "output_type": "stream",
     "text": [
      "      Product  Total_Sales\n",
      "1      Laptop       220000\n",
      "3       Phone       123200\n",
      "4      Tablet        80000\n",
      "2     Monitor        78600\n",
      "0  Headphones        12700\n"
     ]
    }
   ],
   "source": [
    "\n",
    "top_products = product_sales.sort_values(by=\"Total_Sales\", ascending=False)\n",
    "print(top_products)"
   ]
  },
  {
   "cell_type": "code",
   "execution_count": 36,
   "id": "4cd5ff94-e8f2-42fa-9c5f-e3853e5fa30e",
   "metadata": {},
   "outputs": [
    {
     "name": "stdout",
     "output_type": "stream",
     "text": [
      "  Product  Total_Sales\n",
      "1  Laptop       220000\n",
      "3   Phone       123200\n",
      "4  Tablet        80000\n"
     ]
    }
   ],
   "source": [
    "top_3_products = top_products.head(3)\n",
    "print(top_3_products)"
   ]
  },
  {
   "cell_type": "code",
   "execution_count": 37,
   "id": "31a0b94a-3ea4-4ccb-8dff-2e7c595be868",
   "metadata": {},
   "outputs": [
    {
     "name": "stdout",
     "output_type": "stream",
     "text": [
      "      Product  Total_Sales\n",
      "2     Monitor        78600\n",
      "0  Headphones        12700\n"
     ]
    }
   ],
   "source": [
    "next_3_products = top_products.iloc[3:6]\n",
    "print(next_3_products)"
   ]
  },
  {
   "cell_type": "code",
   "execution_count": 38,
   "id": "777ee12c-1b29-4866-b0da-516759c4af8a",
   "metadata": {},
   "outputs": [
    {
     "name": "stdout",
     "output_type": "stream",
     "text": [
      "Empty DataFrame\n",
      "Columns: [Product, Total_Sales]\n",
      "Index: []\n"
     ]
    }
   ],
   "source": [
    "third_3_products = top_products.iloc[6:9]\n",
    "print(third_3_products )"
   ]
  },
  {
   "cell_type": "code",
   "execution_count": 39,
   "id": "f09ee175-077e-4320-9938-6f25596c4fdf",
   "metadata": {},
   "outputs": [
    {
     "name": "stdout",
     "output_type": "stream",
     "text": [
      "      Product  Quantity\n",
      "0  Headphones       127\n",
      "1      Laptop       220\n",
      "2     Monitor       262\n",
      "3       Phone       176\n",
      "4      Tablet       160\n"
     ]
    }
   ],
   "source": [
    "product_quantity= df.groupby(\"Product\")[\"Quantity\"].sum().reset_index()\n",
    "print(product_quantity)"
   ]
  },
  {
   "cell_type": "code",
   "execution_count": 40,
   "id": "ca4ee6e4-100b-4ecd-be79-7cf7b541ea66",
   "metadata": {},
   "outputs": [
    {
     "name": "stdout",
     "output_type": "stream",
     "text": [
      "      Product  Quantity\n",
      "2     Monitor       262\n",
      "1      Laptop       220\n",
      "3       Phone       176\n",
      "4      Tablet       160\n",
      "0  Headphones       127\n"
     ]
    }
   ],
   "source": [
    "top_product= product_quantity.sort_values(by=\"Quantity\", ascending=False)\n",
    "print(top_product)"
   ]
  },
  {
   "cell_type": "code",
   "execution_count": 42,
   "id": "fbcdb6f2-2a2b-4d0f-94b5-e1bf7ae65103",
   "metadata": {},
   "outputs": [
    {
     "name": "stdout",
     "output_type": "stream",
     "text": [
      "   Product  Quantity\n",
      "2  Monitor       262\n",
      "1   Laptop       220\n",
      "3    Phone       176\n"
     ]
    }
   ],
   "source": [
    "top_3_products=top_product.head(3)\n",
    "print(top_3_products)"
   ]
  },
  {
   "cell_type": "code",
   "execution_count": 43,
   "id": "19adc43f-d87f-4f7c-b8e4-fa92d3d6b8e7",
   "metadata": {},
   "outputs": [
    {
     "name": "stdout",
     "output_type": "stream",
     "text": [
      "      Product  Quantity\n",
      "4      Tablet       160\n",
      "0  Headphones       127\n"
     ]
    }
   ],
   "source": [
    "next_3_products=top_product.iloc[3:6]\n",
    "print(next_3_products)"
   ]
  },
  {
   "cell_type": "code",
   "execution_count": 44,
   "id": "5a4f8958-9c79-4aaa-8e9d-e551d5023016",
   "metadata": {},
   "outputs": [
    {
     "name": "stdout",
     "output_type": "stream",
     "text": [
      "      Product  Quantity\n",
      "0  Headphones       127\n",
      "1      Laptop       220\n",
      "2     Monitor       262\n",
      "3       Phone       176\n",
      "4      Tablet       160\n"
     ]
    }
   ],
   "source": [
    "product_quantity = df.groupby(\"Product\")[\"Quantity\"].sum().reset_index()\n",
    "print(product_quantity)"
   ]
  },
  {
   "cell_type": "code",
   "execution_count": 45,
   "id": "73e0b054-e771-4f33-b58b-b642724ecc58",
   "metadata": {},
   "outputs": [
    {
     "name": "stdout",
     "output_type": "stream",
     "text": [
      "      Product  Quantity\n",
      "2     Monitor       262\n",
      "1      Laptop       220\n",
      "3       Phone       176\n",
      "4      Tablet       160\n",
      "0  Headphones       127\n"
     ]
    }
   ],
   "source": [
    "top_product=product_quantity.sort_values(by=\"Quantity\", ascending=False)\n",
    "print(top_product)"
   ]
  },
  {
   "cell_type": "code",
   "execution_count": 47,
   "id": "4d5e7873-cc49-4204-8fb8-320a4308c30a",
   "metadata": {},
   "outputs": [
    {
     "name": "stdout",
     "output_type": "stream",
     "text": [
      "   Product  Quantity\n",
      "2  Monitor       262\n",
      "1   Laptop       220\n"
     ]
    }
   ],
   "source": [
    "top_2_prodcut=top_product.head(2)\n",
    "print(top_2_prodcut)"
   ]
  },
  {
   "cell_type": "code",
   "execution_count": 53,
   "id": "2eb85883-bfe9-40d5-befa-6960450e74be",
   "metadata": {},
   "outputs": [
    {
     "name": "stdout",
     "output_type": "stream",
     "text": [
      "  Product  Quantity\n",
      "3   Phone       176\n",
      "4  Tablet       160\n"
     ]
    }
   ],
   "source": [
    "nex_2_product=top_product.iloc[2:4]\n",
    "print(nex_2_product)"
   ]
  },
  {
   "cell_type": "code",
   "execution_count": 54,
   "id": "4624d280-ea79-4419-894e-be69c055df8f",
   "metadata": {},
   "outputs": [],
   "source": [
    "q1 = df[\"Total_Sales\"].quantile(0.25)\n",
    "q3= df[\"Total_Sales\"].quantile(0.75)"
   ]
  },
  {
   "cell_type": "code",
   "execution_count": 56,
   "id": "0e3be0e8-483e-4ebf-8eea-01da7c021e0d",
   "metadata": {},
   "outputs": [
    {
     "name": "stdout",
     "output_type": "stream",
     "text": [
      "          Date     Product     Category  Quantity  Price  Total_Sales  \\\n",
      "1   2024-04-13     Monitor  Electronics         2    300          600   \n",
      "5   2024-04-17     Monitor      Gadgets         3    300          900   \n",
      "7   2024-04-19       Phone      Gadgets         1    700          700   \n",
      "10  2024-04-22  Headphones      Gadgets         1    100          100   \n",
      "18  2024-04-30  Headphones  Electronics         7    100          700   \n",
      "23  2024-05-05  Headphones  Electronics         4    100          400   \n",
      "27  2024-05-09      Tablet  Accessories         1    500          500   \n",
      "30  2024-05-12  Headphones  Electronics         1    100          100   \n",
      "33  2024-05-15      Tablet      Gadgets         1    500          500   \n",
      "38  2024-05-20  Headphones      Gadgets         6    100          600   \n",
      "43  2024-05-25     Monitor  Accessories         3    300          900   \n",
      "48  2024-05-30     Monitor      Gadgets         1    300          300   \n",
      "49  2024-05-31     Monitor  Electronics         1    300          300   \n",
      "70  2024-06-21  Headphones  Accessories         1    100          100   \n",
      "71  2024-06-22  Headphones      Gadgets         5    100          500   \n",
      "85  2024-07-06      Tablet      Gadgets         1    500          500   \n",
      "87  2024-07-08      Tablet  Electronics         1    500          500   \n",
      "89  2024-07-10  Headphones  Electronics         1    100          100   \n",
      "93  2024-07-14      Tablet  Electronics         1    500          500   \n",
      "94  2024-07-15  Headphones  Electronics         1    100          100   \n",
      "98  2024-07-19     Monitor  Electronics         1    300          300   \n",
      "100 2024-07-21  Headphones  Accessories         7    100          700   \n",
      "102 2024-07-23      Tablet      Gadgets         1    500          500   \n",
      "108 2024-07-29  Headphones  Accessories         7    100          700   \n",
      "113 2024-08-03  Headphones      Gadgets         1    100          100   \n",
      "117 2024-08-07  Headphones  Electronics         3    100          300   \n",
      "119 2024-08-09  Headphones  Electronics         1    100          100   \n",
      "120 2024-08-10      Tablet  Electronics         1    500          500   \n",
      "125 2024-08-15     Monitor  Electronics         2    300          600   \n",
      "127 2024-08-17  Headphones      Gadgets         6    100          600   \n",
      "128 2024-08-18  Headphones  Electronics         3    100          300   \n",
      "130 2024-08-20     Monitor  Accessories         1    300          300   \n",
      "132 2024-08-22  Headphones      Gadgets         5    100          500   \n",
      "133 2024-08-23  Headphones      Gadgets         9    100          900   \n",
      "135 2024-08-25  Headphones  Electronics         7    100          700   \n",
      "139 2024-08-29     Monitor      Gadgets         3    300          900   \n",
      "140 2024-08-30  Headphones  Electronics         7    100          700   \n",
      "141 2024-08-31  Headphones      Gadgets         6    100          600   \n",
      "152 2024-09-11       Phone  Electronics         1    700          700   \n",
      "159 2024-09-18  Headphones      Gadgets         8    100          800   \n",
      "160 2024-09-19       Phone      Gadgets         1    700          700   \n",
      "161 2024-09-20       Phone  Accessories         1    700          700   \n",
      "165 2024-09-24  Headphones      Gadgets         2    100          200   \n",
      "169 2024-09-28     Monitor  Electronics         3    300          900   \n",
      "170 2024-09-29  Headphones      Gadgets         9    100          900   \n",
      "181 2024-10-10  Headphones  Electronics         3    100          300   \n",
      "189 2024-10-18  Headphones  Electronics         5    100          500   \n",
      "191 2024-10-20  Headphones  Accessories         1    100          100   \n",
      "194 2024-10-23     Monitor  Accessories         2    300          600   \n",
      "195 2024-10-24  Headphones      Gadgets         1    100          100   \n",
      "197 2024-10-26  Headphones  Electronics         9    100          900   \n",
      "\n",
      "        Month  \n",
      "1        June  \n",
      "5       March  \n",
      "7     January  \n",
      "10      March  \n",
      "18   February  \n",
      "23        May  \n",
      "27       June  \n",
      "30      March  \n",
      "33       June  \n",
      "38       June  \n",
      "43      March  \n",
      "48      March  \n",
      "49       June  \n",
      "70   February  \n",
      "71      April  \n",
      "85      April  \n",
      "87    January  \n",
      "89       July  \n",
      "93   February  \n",
      "94    January  \n",
      "98   February  \n",
      "100   January  \n",
      "102     March  \n",
      "108       May  \n",
      "113      June  \n",
      "117   January  \n",
      "119   January  \n",
      "120       May  \n",
      "125  February  \n",
      "127     March  \n",
      "128  February  \n",
      "130      June  \n",
      "132  February  \n",
      "133      July  \n",
      "135      June  \n",
      "139       May  \n",
      "140     April  \n",
      "141   January  \n",
      "152       May  \n",
      "159      June  \n",
      "160     March  \n",
      "161      July  \n",
      "165      June  \n",
      "169       May  \n",
      "170   January  \n",
      "181       May  \n",
      "189      July  \n",
      "191      June  \n",
      "194      June  \n",
      "195  February  \n",
      "197       May  \n"
     ]
    }
   ],
   "source": [
    "bottom_quartile=df[df[\"Total_Sales\"]<=q1]\n",
    "print(bottom_quartile)"
   ]
  },
  {
   "cell_type": "code",
   "execution_count": 57,
   "id": "cb80ebce-8453-4191-b12e-c4838362cf91",
   "metadata": {},
   "outputs": [
    {
     "name": "stdout",
     "output_type": "stream",
     "text": [
      "          Date Product     Category  Quantity  Price  Total_Sales     Month\n",
      "2   2024-04-14  Laptop  Accessories         5   1000         5000     April\n",
      "3   2024-04-15  Laptop  Accessories         5   1000         5000   January\n",
      "4   2024-04-16   Phone  Accessories         6    700         4200     April\n",
      "9   2024-04-21  Laptop  Accessories         4   1000         4000       May\n",
      "11  2024-04-23  Laptop  Accessories         7   1000         7000     March\n",
      "12  2024-04-24  Laptop  Electronics         9   1000         9000     April\n",
      "14  2024-04-26  Laptop  Electronics         4   1000         4000     April\n",
      "15  2024-04-27   Phone  Accessories         6    700         4200       May\n",
      "20  2024-05-02  Laptop  Electronics         7   1000         7000     March\n",
      "25  2024-05-07   Phone  Accessories         9    700         6300      July\n",
      "29  2024-05-11  Laptop  Electronics         9   1000         9000   January\n",
      "32  2024-05-14   Phone  Electronics         8    700         5600  February\n",
      "34  2024-05-16  Laptop      Gadgets         6   1000         6000      July\n",
      "35  2024-05-17  Laptop  Electronics         5   1000         5000   January\n",
      "45  2024-05-27   Phone  Electronics         9    700         6300  February\n",
      "47  2024-05-29  Tablet  Electronics         9    500         4500   January\n",
      "50  2024-06-01  Laptop  Accessories         5   1000         5000   January\n",
      "51  2024-06-02  Laptop  Accessories         6   1000         6000       May\n",
      "52  2024-06-03   Phone  Accessories         6    700         4200     March\n",
      "56  2024-06-07  Laptop  Electronics         8   1000         8000     March\n",
      "57  2024-06-08  Laptop      Gadgets         6   1000         6000  February\n",
      "58  2024-06-09   Phone  Electronics         8    700         5600       May\n",
      "60  2024-06-11  Tablet  Accessories         8    500         4000     April\n",
      "62  2024-06-13   Phone      Gadgets         8    700         5600      July\n",
      "66  2024-06-17  Laptop  Electronics         4   1000         4000      June\n",
      "67  2024-06-18   Phone  Accessories         6    700         4200  February\n",
      "74  2024-06-25  Laptop  Electronics         6   1000         6000       May\n",
      "82  2024-07-03  Laptop  Electronics         5   1000         5000      June\n",
      "86  2024-07-07  Laptop      Gadgets         6   1000         6000  February\n",
      "91  2024-07-12   Phone  Accessories         9    700         6300     March\n",
      "92  2024-07-13   Phone      Gadgets         6    700         4200     April\n",
      "99  2024-07-20  Laptop      Gadgets         5   1000         5000      June\n",
      "103 2024-07-24  Laptop  Electronics         5   1000         5000     March\n",
      "104 2024-07-25  Laptop  Accessories         5   1000         5000     March\n",
      "114 2024-08-04  Laptop  Accessories         5   1000         5000      June\n",
      "123 2024-08-13  Laptop  Electronics         8   1000         8000      June\n",
      "124 2024-08-14  Laptop  Accessories         7   1000         7000  February\n",
      "131 2024-08-21  Laptop  Electronics         6   1000         6000     April\n",
      "150 2024-09-09   Phone      Gadgets         9    700         6300  February\n",
      "153 2024-09-12   Phone  Electronics         8    700         5600       May\n",
      "154 2024-09-13   Phone  Electronics         7    700         4900       May\n",
      "157 2024-09-16  Laptop      Gadgets         5   1000         5000  February\n",
      "163 2024-09-22   Phone  Electronics         8    700         5600   January\n",
      "164 2024-09-23  Laptop  Electronics         5   1000         5000     March\n",
      "172 2024-10-01  Laptop      Gadgets         7   1000         7000     April\n",
      "174 2024-10-03  Tablet  Electronics         8    500         4000     March\n",
      "176 2024-10-05   Phone  Accessories         8    700         5600      July\n",
      "178 2024-10-07  Tablet  Accessories         8    500         4000       May\n",
      "179 2024-10-08  Laptop      Gadgets         9   1000         9000     April\n",
      "190 2024-10-19  Laptop  Accessories         6   1000         6000      July\n"
     ]
    }
   ],
   "source": [
    "top_quartile=df[df[\"Total_Sales\"]>q3]\n",
    "print(top_quartile)"
   ]
  },
  {
   "cell_type": "code",
   "execution_count": 58,
   "id": "5d4e6742-2e9b-4f43-aa8f-25e7a065a5da",
   "metadata": {},
   "outputs": [
    {
     "name": "stdout",
     "output_type": "stream",
     "text": [
      "Collecting arabic-reshaper\n",
      "  Downloading arabic_reshaper-3.0.0-py3-none-any.whl.metadata (12 kB)\n",
      "Collecting python-bidi\n",
      "  Downloading python_bidi-0.6.7-cp313-cp313-win_amd64.whl.metadata (5.0 kB)\n",
      "Downloading arabic_reshaper-3.0.0-py3-none-any.whl (20 kB)\n",
      "Downloading python_bidi-0.6.7-cp313-cp313-win_amd64.whl (159 kB)\n",
      "Installing collected packages: python-bidi, arabic-reshaper\n",
      "\n",
      "   ---------------------------------------- 2/2 [arabic-reshaper]\n",
      "\n",
      "Successfully installed arabic-reshaper-3.0.0 python-bidi-0.6.7\n"
     ]
    }
   ],
   "source": [
    "import sys\n",
    "!{sys.executable} -m pip install arabic-reshaper python-bidi\n"
   ]
  },
  {
   "cell_type": "code",
   "execution_count": 59,
   "id": "0d90c008-a051-4c72-9896-e44a2aa88107",
   "metadata": {},
   "outputs": [
    {
     "data": {
      "text/plain": [
       "<Axes: ylabel='Product'>"
      ]
     },
     "execution_count": 59,
     "metadata": {},
     "output_type": "execute_result"
    },
    {
     "data": {
      "image/png": "[encoded data removed]",
      "text/plain": [
       "<Figure size 640x480 with 2 Axes>"
      ]
     },
     "metadata": {},
     "output_type": "display_data"
    }
   ],
   "source": [
    "import pandas as pd\n",
    "\n",
    "import seaborn as sns\n",
    "import matplotlib.pyplot as plt\n",
    "import arabic_reshaper\n",
    "from bidi.algorithm import get_display\n",
    "df['Product'] = df['Product'].apply(lambda x: get_display(arabic_reshaper.reshape(x)))\n",
    "# إنشاء جدول حراري باستخدام heatmap\n",
    "sns.heatmap(df.pivot_table(index=\"Product\", values=\"Quantity\", aggfunc=\"sum\"), \n",
    " annot=True, fmt=\".0f\", cmap=\"coolwarm\", linewidths=1, linecolor=\"black\")\n"
   ]
  },
  {
   "cell_type": "code",
   "execution_count": 60,
   "id": "2b975308-8540-4bf8-958c-af97b13e2e52",
   "metadata": {},
   "outputs": [
    {
     "name": "stdout",
     "output_type": "stream",
     "text": [
      "      Product  Total_Sales\n",
      "0  Headphones        12700\n",
      "1      Laptop       220000\n",
      "2     Monitor        78600\n",
      "3       Phone       123200\n",
      "4      Tablet        80000\n"
     ]
    }
   ],
   "source": [
    "sales_summary = df.groupby(\"Product\")[\"Total_Sales\"].sum().reset_index()\n",
    "print(sales_summary )"
   ]
  },
  {
   "cell_type": "code",
   "execution_count": 61,
   "id": "e46d0dea-7c23-4652-9134-626c2ba5c693",
   "metadata": {},
   "outputs": [],
   "source": [
    "Q1 = sales_summary[\"Total_Sales\"].quantile(0.25)"
   ]
  },
  {
   "cell_type": "code",
   "execution_count": 62,
   "id": "0973947c-19cb-47ca-9116-0f6ad819d1e5",
   "metadata": {},
   "outputs": [
    {
     "name": "stdout",
     "output_type": "stream",
     "text": [
      "      Product  Total_Sales\n",
      "0  Headphones        12700\n",
      "2     Monitor        78600\n"
     ]
    }
   ],
   "source": []
  },
  {
   "cell_type": "code",
   "execution_count": 63,
   "id": "def0ff42-426f-41ae-9766-710dfd432c2a",
   "metadata": {},
   "outputs": [],
   "source": [
    "Q3 = sales_summary[\"Total_Sales\"].quantile(0.75)"
   ]
  },
  {
   "cell_type": "code",
   "execution_count": 66,
   "id": "c1044b72-9eac-4e0b-9601-0179b983116e",
   "metadata": {},
   "outputs": [
    {
     "name": "stdout",
     "output_type": "stream",
     "text": [
      "  Product  Total_Sales\n",
      "1  Laptop       220000\n",
      "3   Phone       123200\n"
     ]
    }
   ],
   "source": [
    "Quantity\n",
    "print(high_sales_products)"
   ]
  },
  {
   "cell_type": "code",
   "execution_count": 68,
   "id": "d0aeb538-968d-4b39-8c97-ee00e1b672fe",
   "metadata": {},
   "outputs": [
    {
     "name": "stdout",
     "output_type": "stream",
     "text": [
      "      Product  Quantity\n",
      "0  Headphones       127\n",
      "4      Tablet       160\n"
     ]
    }
   ],
   "source": [
    "quantity_summary = df.groupby(\"Product\")[\"Quantity\"].sum().reset_index()\n",
    "Q1 =quantity_summary[\"Quantity\"].quantile(0.25)\n",
    "Q3 =quantity_summary[\"Quantity\"].quantile(0.75)\n",
    "low_quantity_products =quantity_summary[quantity_summary[\"Quantity\"] <= Q1]\n",
    "print(low_quantity_products)\n"
   ]
  },
  {
   "cell_type": "code",
   "execution_count": null,
   "id": "06188905-579f-4211-a170-f37269ed5768",
   "metadata": {},
   "outputs": [],
   "source": []
  }
 ],
 "metadata": {
  "kernelspec": {
   "display_name": "Python [conda env:base] *",
   "language": "python",
   "name": "conda-base-py"
  },
  "language_info": {
   "codemirror_mode": {
    "name": "ipython",
    "version": 3
   },
   "file_extension": ".py",
   "mimetype": "text/x-python",
   "name": "python",
   "nbconvert_exporter": "python",
   "pygments_lexer": "ipython3",
   "version": "3.13.5"
  }
 },
 "nbformat": 4,
 "nbformat_minor": 5
}
